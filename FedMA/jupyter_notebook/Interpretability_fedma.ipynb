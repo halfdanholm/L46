{
 "cells": [
  {
   "cell_type": "markdown",
   "metadata": {},
   "source": [
    "## Interpretability Result in FedMA\n",
    "\n",
    "In this jupyter notebook, we provide the code to reproduce the \"Interpretability\" experiments (see Section 3 for more details) in FedMA paper."
   ]
  },
  {
   "cell_type": "code",
   "execution_count": 1,
   "metadata": {},
   "outputs": [],
   "source": [
    "import pickle\n",
    "import copy\n",
    "from sklearn.preprocessing import normalize\n",
    "from utils import *\n",
    "\n",
    "from matching.pfnm import layer_wise_group_descent\n",
    "from matching.pfnm import layer_wise_group_descent_comm, layer_wise_group_descent_comm2, layer_wise_group_descent_comm3\n",
    "from matching.pfnm import block_patching, patch_weights\n",
    "from matching.gaus_marginal_matching import match_local_atoms\n",
    "\n",
    "import logging\n",
    "\n",
    "from model import *"
   ]
  },
  {
   "cell_type": "code",
   "execution_count": 2,
   "metadata": {},
   "outputs": [],
   "source": [
    "dummy_cnn = ModerateCNN()\n",
    "layer_type = []\n",
    "for (k, v) in dummy_cnn.state_dict().items():\n",
    "    layer_type.append(k)"
   ]
  },
  {
   "cell_type": "code",
   "execution_count": 3,
   "metadata": {},
   "outputs": [],
   "source": [
    "logging.basicConfig()\n",
    "logger = logging.getLogger()\n",
    "logger.setLevel(logging.INFO)"
   ]
  },
  {
   "cell_type": "code",
   "execution_count": 4,
   "metadata": {},
   "outputs": [],
   "source": [
    "# we load retrained weights here:\n",
    "with open(\"./first_round_retraining_weights\", \"rb\") as out_file:\n",
    "    batch_weights = pickle.load(out_file)"
   ]
  },
  {
   "cell_type": "code",
   "execution_count": 5,
   "metadata": {},
   "outputs": [],
   "source": [
    "n_layers = int(len(batch_weights[0]) / 2)\n",
    "num_workers = len(batch_weights)\n",
    "\n",
    "matching_shapes_old = []\n",
    "matching_shapes_new = []\n",
    "\n",
    "first_fc_index = None\n",
    "gamma = 5.0\n",
    "sigma = 1.0\n",
    "sigma0 = 1.0\n",
    "n_classes = 10\n",
    "it=5"
   ]
  },
  {
   "cell_type": "code",
   "execution_count": 6,
   "metadata": {},
   "outputs": [
    {
     "name": "stdout",
     "output_type": "stream",
     "text": [
      "Files already downloaded and verified\n",
      "Files already downloaded and verified\n"
     ]
    }
   ],
   "source": [
    "args_dataset = \"cifar10\"\n",
    "args_datadir = \"./data/cifar10\"\n",
    "args_batch_size = 64\n",
    "\n",
    "train_dl_global, test_dl_global = get_dataloader(args_dataset, args_datadir, args_batch_size, 32)\n",
    "matching_shapes = []"
   ]
  },
  {
   "cell_type": "code",
   "execution_count": 7,
   "metadata": {},
   "outputs": [],
   "source": [
    "def ___trans_next_conv_layer_forward(layer_weight, next_layer_shape):\n",
    "    reshaped = layer_weight.reshape(next_layer_shape).transpose((1, 0, 2, 3)).reshape((next_layer_shape[1], -1))\n",
    "    return reshaped\n",
    "\n",
    "def ___trans_next_conv_layer_backward(layer_weight, next_layer_shape):\n",
    "    reconstructed_next_layer_shape = (next_layer_shape[1], next_layer_shape[0], next_layer_shape[2], next_layer_shape[3])\n",
    "    reshaped = layer_weight.reshape(reconstructed_next_layer_shape).transpose(1, 0, 2, 3).reshape(next_layer_shape[0], -1)\n",
    "    return reshaped"
   ]
  },
  {
   "cell_type": "code",
   "execution_count": 8,
   "metadata": {},
   "outputs": [
    {
     "name": "stdout",
     "output_type": "stream",
     "text": [
      "(32, 27)\n",
      "(70, 288)\n",
      "Are those weights equal: True\n"
     ]
    }
   ],
   "source": [
    "import copy\n",
    "\n",
    "test_weight = copy.deepcopy(batch_weights[0][2])\n",
    "\n",
    "print(batch_weights[0][0].shape)\n",
    "print(test_weight.shape)\n",
    "\n",
    "next_layer_shape = (70, 32, 3, 3)\n",
    "\n",
    "reshaped_weight = ___trans_next_conv_layer_forward(test_weight, next_layer_shape)\n",
    "reshaped_back_weight = ___trans_next_conv_layer_backward(reshaped_weight, next_layer_shape)\n",
    "\n",
    "print(\"Are those weights equal: {}\".format(np.array_equal(test_weight, reshaped_back_weight)))"
   ]
  },
  {
   "cell_type": "code",
   "execution_count": 9,
   "metadata": {},
   "outputs": [],
   "source": [
    "def compute_full_cnn_accuracy(models, weights, train_dl, test_dl, n_classes, args_model, args_dataset):\n",
    "    \"\"\"Note that we only handle the FC weights for now\"\"\"\n",
    "    # we need to figure out the FC dims first\n",
    "\n",
    "    #LeNetContainer\n",
    "    # def __init__(self, num_filters, kernel_size, input_dim, hidden_dims, output_dim=10)\n",
    "\n",
    "    # this should be safe to be hard-coded since most of the modern image classification dataset are in RGB format\n",
    "    #args_n_nets = len(models)\n",
    "\n",
    "    if args_model == \"lenet\":\n",
    "        num_filters = [weights[0].shape[0], weights[2].shape[0]]\n",
    "        kernel_size = 5\n",
    "        input_dim = weights[4].shape[0]\n",
    "        hidden_dims = [weights[4].shape[1]]\n",
    "\n",
    "        output_dim = weights[-1].shape[0]\n",
    "\n",
    "        logger.info(\"Num filters: {}, Input dim: {}, hidden_dims: {}, output_dim: {}\".format(num_filters, input_dim, hidden_dims, output_dim))\n",
    "\n",
    "        matched_cnn = LeNetContainer(\n",
    "                                    num_filters=num_filters,\n",
    "                                    kernel_size=kernel_size,\n",
    "                                    input_dim=input_dim,\n",
    "                                    hidden_dims=hidden_dims,\n",
    "                                    output_dim=output_dim)\n",
    "    elif args_model == \"vgg\":\n",
    "        matched_shapes = [w.shape for w in weights]\n",
    "        matched_cnn = matched_vgg11(matched_shapes=matched_shapes)\n",
    "    elif args_model == \"simple-cnn\":\n",
    "        # input_channel, num_filters, kernel_size, input_dim, hidden_dims, output_dim=10):\n",
    "        # [(9, 75), (9,), (19, 225), (19,), (475, 123), (123,), (123, 87), (87,), (87, 10), (10,)]\n",
    "        if args_dataset in (\"cifar10\", \"cinic10\"):\n",
    "            input_channel = 3\n",
    "        elif args_dataset == \"mnist\":\n",
    "            input_channel = 1\n",
    "        num_filters = [weights[0].shape[0], weights[2].shape[0]]\n",
    "        input_dim = weights[4].shape[0]\n",
    "        hidden_dims = [weights[4].shape[1], weights[6].shape[1]]\n",
    "        matched_cnn = SimpleCNNContainer(input_channel=input_channel, \n",
    "                                        num_filters=num_filters, \n",
    "                                        kernel_size=5, \n",
    "                                        input_dim=input_dim, \n",
    "                                        hidden_dims=hidden_dims, \n",
    "                                        output_dim=10)\n",
    "    elif args_model == \"moderate-cnn\":\n",
    "        #[(35, 27), (35,), (68, 315), (68,), (132, 612), (132,), (132, 1188), (132,), \n",
    "        #(260, 1188), (260,), (260, 2340), (260,), \n",
    "        #(4160, 1025), (1025,), (1025, 515), (515,), (515, 10), (10,)]\n",
    "        num_filters = [weights[0].shape[0], weights[2].shape[0], weights[4].shape[0], weights[6].shape[0], weights[8].shape[0], weights[10].shape[0]]\n",
    "        input_dim = weights[12].shape[0]\n",
    "        hidden_dims = [weights[12].shape[1], weights[14].shape[1]]\n",
    "        if args_dataset in (\"cifar10\", \"cinic10\"):\n",
    "            matched_cnn = ModerateCNNContainer(3,\n",
    "                                                num_filters, \n",
    "                                                kernel_size=3, \n",
    "                                                input_dim=input_dim, \n",
    "                                                hidden_dims=hidden_dims, \n",
    "                                                output_dim=10)\n",
    "        elif args_dataset == \"mnist\":\n",
    "            matched_cnn = ModerateCNNContainer(1,\n",
    "                                                num_filters, \n",
    "                                                kernel_size=3, \n",
    "                                                input_dim=input_dim, \n",
    "                                                hidden_dims=hidden_dims, \n",
    "                                                output_dim=10)\n",
    "\n",
    "    #logger.info(\"Keys of layers of convblock ...\")\n",
    "    new_state_dict = {}\n",
    "    model_counter = 0\n",
    "    # handle the conv layers part which is not changing\n",
    "    for param_idx, (key_name, param) in enumerate(matched_cnn.state_dict().items()):\n",
    "        #print(\"&\"*30)\n",
    "        #print(\"Key: {}, Weight Shape: {}, Matched weight shape: {}\".format(key_name, param.size(), weights[param_idx].shape))\n",
    "        #print(\"&\"*30)\n",
    "        if \"conv\" in key_name or \"features\" in key_name:\n",
    "            if \"weight\" in key_name:\n",
    "                temp_dict = {key_name: torch.from_numpy(weights[param_idx].reshape(param.size()))}\n",
    "            elif \"bias\" in key_name:\n",
    "                temp_dict = {key_name: torch.from_numpy(weights[param_idx])}\n",
    "        elif \"fc\" in key_name or \"classifier\" in key_name:\n",
    "            if \"weight\" in key_name:\n",
    "                temp_dict = {key_name: torch.from_numpy(weights[param_idx].T)}\n",
    "            elif \"bias\" in key_name:\n",
    "                temp_dict = {key_name: torch.from_numpy(weights[param_idx])}\n",
    "\n",
    "        new_state_dict.update(temp_dict)\n",
    "    matched_cnn.load_state_dict(new_state_dict)\n",
    "\n",
    "    matched_cnn.eval()\n",
    "    ##    \n",
    "    \n",
    "    correct, total = 0, 0\n",
    "    for batch_idx, (x, target) in enumerate(test_dl):\n",
    "        out_k = matched_cnn(x)\n",
    "        _, pred_label = torch.max(out_k, 1)\n",
    "        total += x.data.size()[0]\n",
    "        correct += (pred_label == target.data).sum().item()\n",
    "        \n",
    "    logger.info(\"Accuracy for Neural Matching correct: {}, total: {}\".format(correct, total))\n",
    "    \n",
    "\n",
    "class ModerateCNNContainerConvBlocks(nn.Module):\n",
    "    def __init__(self, num_filters, output_dim=10):\n",
    "        super(ModerateCNNContainerConvBlocks, self).__init__()\n",
    "\n",
    "        self.conv_layer = nn.Sequential(\n",
    "            # Conv Layer block 1\n",
    "            nn.Conv2d(in_channels=3, out_channels=num_filters[0], kernel_size=3, padding=1),\n",
    "            nn.ReLU(inplace=True),\n",
    "            #nn.Conv2d(in_channels=num_filters[0], out_channels=num_filters[1], kernel_size=3, padding=1),\n",
    "            #nn.ReLU(inplace=True),\n",
    "        )\n",
    "\n",
    "    def forward(self, x):\n",
    "        x = self.conv_layer(x)\n",
    "        return x"
   ]
  },
  {
   "cell_type": "code",
   "execution_count": 10,
   "metadata": {},
   "outputs": [
    {
     "name": "stderr",
     "output_type": "stream",
     "text": [
      "INFO:root:Handling layer: 1\n",
      "INFO:root:init_channel_kernel_dims: [27, 288, 630, 1197, 1206, 2367, 1025, 516, 10]\n",
      "INFO:root:Layer index: 1, init_num_kernel: 32\n",
      "INFO:root:weights bias: (32, 28)\n",
      "INFO:root:sigma_inv_prior shape: (28,)\n",
      "INFO:root:mean_prior shape: (28,)\n",
      "INFO:root:Number of global neurons is 34, gamma 5.000000\n",
      "INFO:root:***************Shape of global weights after match: (34, 28) ******************\n",
      "INFO:root:Branch A, Layer index: 1, Global weights out shapes: [(34, 27), (34,)]\n",
      "INFO:root:global inv sigma out shape: [(34, 27), (34,)]\n"
     ]
    }
   ],
   "source": [
    "layer_index = 1\n",
    "model_meta_data = [(32, 3, 3, 3), (32, ), (70, 32, 3, 3), (70,)]\n",
    "logger.info(\"Handling layer: {}\".format(layer_index))\n",
    "layer_hungarian_weights_old, assignment_old, L_next_old = layer_wise_group_descent_comm(\n",
    "     batch_weights=batch_weights, \n",
    "     layer_index=layer_index,\n",
    "     sigma0_layers=sigma0, \n",
    "     sigma_layers=sigma, \n",
    "     batch_frequencies=None, \n",
    "     it=it, \n",
    "     gamma_layers=gamma, \n",
    "     model_meta_data=model_meta_data,\n",
    "     model_layer_type=layer_type,\n",
    "     n_layers=n_layers,\n",
    "     matching_shapes=matching_shapes,\n",
    "     args=None\n",
    "     )\n",
    "matching_shapes_old.append(L_next_old)"
   ]
  },
  {
   "cell_type": "code",
   "execution_count": 11,
   "metadata": {},
   "outputs": [
    {
     "name": "stderr",
     "output_type": "stream",
     "text": [
      "INFO:root:Handling layer: 1\n",
      "INFO:root:init_channel_kernel_dims: [27, 288, 630, 1197, 1206, 2367, 1025, 516, 10]\n",
      "INFO:root:Layer index: 1, init_num_kernel: 32\n",
      "INFO:root:weights bias: (32, 28)\n",
      "INFO:root:sigma_inv_prior shape: (28,)\n",
      "INFO:root:mean_prior shape: (28,)\n",
      "INFO:root:Branch A, Layer index: 1, Global weights out shapes: [(34, 27), (34,)]\n"
     ]
    },
    {
     "name": "stdout",
     "output_type": "stream",
     "text": [
      "Init mu0 estimate mean is -0.000121\n",
      "Init Sigma mean estimate is 0.015700; sigma0 is 0.015051; mu0 is -0.000121\n",
      "Init objective (without prior) is 4763.361315; number of global atoms is 32\n",
      "Sigma mean estimate is 0.015413; sigma0 is 0.015068; mu0 is -0.000405\n",
      "Matching iteration 0\n",
      "Objective (without prior) at iteration 0 is 5121.931010; number of global atoms is 34\n",
      "Sigma mean estimate is 0.015413; sigma0 is 0.015068; mu0 is -0.000405\n",
      "Matching iteration 1\n",
      "Objective (without prior) at iteration 1 is 5121.931010; number of global atoms is 34\n",
      "Sigma mean estimate is 0.015413; sigma0 is 0.015068; mu0 is -0.000405\n",
      "Matching iteration 2\n",
      "Objective (without prior) at iteration 2 is 5121.931010; number of global atoms is 34\n",
      "Sigma mean estimate is 0.015413; sigma0 is 0.015068; mu0 is -0.000405\n",
      "Matching iteration 3\n",
      "Objective (without prior) at iteration 3 is 5121.931010; number of global atoms is 34\n",
      "Sigma mean estimate is 0.015413; sigma0 is 0.015068; mu0 is -0.000405\n",
      "Matching iteration 4\n",
      "Objective (without prior) at iteration 4 is 5121.931010; number of global atoms is 34\n",
      "Number of global atoms is 34, gamma 5.000000\n"
     ]
    }
   ],
   "source": [
    "layer_index = 1\n",
    "model_meta_data = [(32, 3, 3, 3), (32, ), (70, 32, 3, 3), (70,)]\n",
    "logger.info(\"Handling layer: {}\".format(layer_index))\n",
    "layer_hungarian_weights_new, assignment_new, L_next_new = layer_wise_group_descent_comm3(\n",
    "     batch_weights=batch_weights, \n",
    "     layer_index=layer_index,\n",
    "     sigma0_layers=sigma0, \n",
    "     sigma_layers=sigma, \n",
    "     batch_frequencies=None, \n",
    "     it=it, \n",
    "     gamma_layers=gamma, \n",
    "     model_meta_data=model_meta_data,\n",
    "     model_layer_type=layer_type,\n",
    "     n_layers=n_layers,\n",
    "     matching_shapes=matching_shapes,\n",
    "     args=None\n",
    "     )\n",
    "matching_shapes_new.append(L_next_new)"
   ]
  },
  {
   "cell_type": "markdown",
   "metadata": {},
   "source": [
    "### Visualizing the Matched Filters here:"
   ]
  },
  {
   "cell_type": "code",
   "execution_count": 12,
   "metadata": {},
   "outputs": [
    {
     "name": "stderr",
     "output_type": "stream",
     "text": [
      "INFO:root:Assignment for batch 1: [0, 1, 2, 3, 28, 4, 5, 6, 7, 8, 9, 30, 10, 11, 12, 13, 14, 15, 16, 17, 18, 19, 20, 21, 22, 23, 24, 25, 26, 27, 31, 29]\n",
      "INFO:root:\n",
      "INFO:root:Assignment for batch 2: [25, 6, 23, 22, 13, 12, 3, 2, 20, 7, 26, 32, 27, 17, 28, 24, 14, 29, 11, 8, 16, 21, 1, 0, 15, 19, 18, 10, 5, 9, 33, 4]\n"
     ]
    }
   ],
   "source": [
    "logger.info(\"Assignment for batch 1: {}\".format(assignment_new[0]))\n",
    "logger.info(\"\")\n",
    "logger.info(\"Assignment for batch 2: {}\".format(assignment_new[1]))"
   ]
  },
  {
   "cell_type": "code",
   "execution_count": 13,
   "metadata": {},
   "outputs": [
    {
     "name": "stderr",
     "output_type": "stream",
     "text": [
      "INFO:root:0\n",
      "INFO:root:23\n"
     ]
    }
   ],
   "source": [
    "# it seems the first filter of batch 1 and the 24-rd filter of batch 2 is matched\n",
    "logger.info(assignment_new[0].index(0))\n",
    "logger.info(assignment_new[1].index(0))"
   ]
  },
  {
   "cell_type": "code",
   "execution_count": 14,
   "metadata": {},
   "outputs": [],
   "source": [
    "%matplotlib inline\n",
    "\n",
    "import matplotlib\n",
    "import numpy as np\n",
    "import matplotlib.pyplot as plt"
   ]
  },
  {
   "cell_type": "code",
   "execution_count": 15,
   "metadata": {},
   "outputs": [
    {
     "name": "stdout",
     "output_type": "stream",
     "text": [
      "(3, 3, 3)\n"
     ]
    }
   ],
   "source": [
    "filter1_batch1 = batch_weights[0][0][0].reshape(3, 3, 3)\n",
    "filter24_batch2 = batch_weights[1][0][23].reshape(3, 3, 3)\n",
    "print(filter1_batch1.shape)"
   ]
  },
  {
   "cell_type": "code",
   "execution_count": 16,
   "metadata": {},
   "outputs": [],
   "source": [
    "dumm_conv_block1 = ModerateCNNContainerConvBlocks([32])\n",
    "dumm_conv_block2 = ModerateCNNContainerConvBlocks([32])\n",
    "dumm_conv_block_avg = ModerateCNNContainerConvBlocks([32])\n",
    "dumm_conv_block_matched = ModerateCNNContainerConvBlocks([34])"
   ]
  },
  {
   "cell_type": "code",
   "execution_count": 17,
   "metadata": {},
   "outputs": [
    {
     "data": {
      "text/plain": [
       "<All keys matched successfully>"
      ]
     },
     "execution_count": 17,
     "metadata": {},
     "output_type": "execute_result"
    }
   ],
   "source": [
    "new_state_dict = {}\n",
    "# handle the conv layers part which is not changing\n",
    "for param_idx, (key_name, param) in enumerate(dumm_conv_block1.state_dict().items()):\n",
    "    if \"conv\" in key_name or \"features\" in key_name:\n",
    "        if \"weight\" in key_name:\n",
    "            temp_dict = {key_name: torch.from_numpy(batch_weights[0][param_idx].reshape(param.size()))}\n",
    "        elif \"bias\" in key_name:\n",
    "            temp_dict = {key_name: torch.from_numpy(batch_weights[0][param_idx])}\n",
    "    new_state_dict.update(temp_dict)\n",
    "dumm_conv_block1.load_state_dict(new_state_dict)"
   ]
  },
  {
   "cell_type": "code",
   "execution_count": 18,
   "metadata": {},
   "outputs": [
    {
     "data": {
      "text/plain": [
       "<All keys matched successfully>"
      ]
     },
     "execution_count": 18,
     "metadata": {},
     "output_type": "execute_result"
    }
   ],
   "source": [
    "new_state_dict = {}\n",
    "# handle the conv layers part which is not changing\n",
    "for param_idx, (key_name, param) in enumerate(dumm_conv_block2.state_dict().items()):\n",
    "    if \"conv\" in key_name or \"features\" in key_name:\n",
    "        if \"weight\" in key_name:\n",
    "            temp_dict = {key_name: torch.from_numpy(batch_weights[1][param_idx].reshape(param.size()))}\n",
    "        elif \"bias\" in key_name:\n",
    "            temp_dict = {key_name: torch.from_numpy(batch_weights[1][param_idx])}\n",
    "    new_state_dict.update(temp_dict)\n",
    "dumm_conv_block2.load_state_dict(new_state_dict)"
   ]
  },
  {
   "cell_type": "code",
   "execution_count": 19,
   "metadata": {},
   "outputs": [
    {
     "name": "stdout",
     "output_type": "stream",
     "text": [
      "(34, 27)\n",
      "(34,)\n",
      "(70, 288)\n"
     ]
    }
   ],
   "source": [
    "# our plan is to construct new hungarian weights:\n",
    "manual_hungarian_weights_new = [np.zeros(lhw.shape).astype(np.float32) for lhw in layer_hungarian_weights_new]\n",
    "for mhw in manual_hungarian_weights_new:\n",
    "    print(mhw.shape)\n",
    "print(batch_weights[0][2].shape)"
   ]
  },
  {
   "cell_type": "code",
   "execution_count": 20,
   "metadata": {},
   "outputs": [],
   "source": [
    "# we now assign value to manual hungarian weights:\n",
    "_ori_shape = (70, 32, 3, 3)\n",
    "_matched_shape = (70, L_next_new, 3, 3)\n",
    "for global_neural_index in range(L_next_new):\n",
    "    if (global_neural_index in assignment_new[0]) and (global_neural_index in assignment_new[1]):\n",
    "        # we need to handle three associated pieces\n",
    "        for idx, mhw in enumerate(manual_hungarian_weights_new):\n",
    "            if len(mhw.shape) == 2:\n",
    "                candidate1 = batch_weights[0][idx][assignment_new[0].index(global_neural_index),:]\n",
    "                candidate2 = batch_weights[1][idx][assignment_new[1].index(global_neural_index),:]\n",
    "                manual_hungarian_weights_new[idx][global_neural_index, :] = 0.5*(candidate1+candidate2)\n",
    "            elif len(mhw.shape) == 1:\n",
    "                manual_hungarian_weights_new[idx][global_neural_index] = 0.5*(batch_weights[0][idx][assignment_new[0].index(global_neural_index)]+batch_weights[1][idx][assignment_new[1].index(global_neural_index)])\n",
    "    else:\n",
    "        if global_neural_index in assignment_new[0]:\n",
    "            for idx, mhw in enumerate(manual_hungarian_weights_new):\n",
    "                if len(mhw.shape) == 2:\n",
    "                    manual_hungarian_weights_new[idx][global_neural_index, :] = batch_weights[0][idx][assignment_new[0].index(global_neural_index),:]\n",
    "                elif len(mhw.shape) == 1:\n",
    "                    manual_hungarian_weights_new[idx][global_neural_index] = batch_weights[0][idx][assignment_new[0].index(global_neural_index)]\n",
    "        else:\n",
    "            for idx, mhw in enumerate(manual_hungarian_weights_new):\n",
    "                if len(mhw.shape) == 2:\n",
    "                    manual_hungarian_weights_new[idx][global_neural_index, :] = batch_weights[1][idx][assignment_new[1].index(global_neural_index),:]\n",
    "                elif len(mhw.shape) == 1:\n",
    "                    manual_hungarian_weights_new[idx][global_neural_index] = batch_weights[1][idx][assignment_new[1].index(global_neural_index)]"
   ]
  },
  {
   "cell_type": "code",
   "execution_count": 21,
   "metadata": {},
   "outputs": [
    {
     "data": {
      "text/plain": [
       "<All keys matched successfully>"
      ]
     },
     "execution_count": 21,
     "metadata": {},
     "output_type": "execute_result"
    }
   ],
   "source": [
    "new_state_dict = {}\n",
    "# handle the conv layers part which is not changing\n",
    "for param_idx, (key_name, param) in enumerate(dumm_conv_block_matched.state_dict().items()):\n",
    "    if \"conv\" in key_name or \"features\" in key_name:\n",
    "        if \"weight\" in key_name:\n",
    "            #temp_dict = {key_name: torch.from_numpy(layer_hungarian_weights_new[param_idx].reshape(param.size()))}\n",
    "            temp_dict = {key_name: torch.from_numpy(manual_hungarian_weights_new[param_idx].reshape(param.size()))}\n",
    "        elif \"bias\" in key_name:\n",
    "            #temp_dict = {key_name: torch.from_numpy(layer_hungarian_weights_new[param_idx])}\n",
    "            temp_dict = {key_name: torch.from_numpy(manual_hungarian_weights_new[param_idx])}\n",
    "    new_state_dict.update(temp_dict)\n",
    "dumm_conv_block_matched.load_state_dict(new_state_dict)"
   ]
  },
  {
   "cell_type": "code",
   "execution_count": 51,
   "metadata": {},
   "outputs": [
    {
     "data": {
      "text/plain": [
       "<All keys matched successfully>"
      ]
     },
     "execution_count": 51,
     "metadata": {},
     "output_type": "execute_result"
    }
   ],
   "source": [
    "new_state_dict = {}\n",
    "# handle the conv layers part which is not changing\n",
    "for param_idx, (key_name, param) in enumerate(dumm_conv_block_avg.state_dict().items()):\n",
    "    if \"conv\" in key_name or \"features\" in key_name:\n",
    "        if \"weight\" in key_name:\n",
    "            #temp_dict = {key_name: torch.from_numpy(((0.2*batch_weights[0][param_idx]+0.8*batch_weights[1][param_idx])).reshape(param.size()))}\n",
    "            temp_dict = {key_name: torch.from_numpy(((0.5*batch_weights[0][param_idx]+0.5*batch_weights[1][param_idx])).reshape(param.size()))}\n",
    "        elif \"bias\" in key_name:\n",
    "            #temp_dict = {key_name: torch.from_numpy((0.2*batch_weights[0][param_idx]+0.8*batch_weights[1][param_idx]))}\n",
    "            temp_dict = {key_name: torch.from_numpy((0.5*batch_weights[0][param_idx]+0.5*batch_weights[1][param_idx]))}\n",
    "    new_state_dict.update(temp_dict)\n",
    "dumm_conv_block_avg.load_state_dict(new_state_dict)"
   ]
  },
  {
   "cell_type": "code",
   "execution_count": 52,
   "metadata": {},
   "outputs": [
    {
     "name": "stdout",
     "output_type": "stream",
     "text": [
      "Files already downloaded and verified\n"
     ]
    }
   ],
   "source": [
    "from torchvision import datasets, transforms\n",
    "\n",
    "trainset_cifar10 = datasets.CIFAR10(root='./data/cifar10', train=True,\n",
    "                                        download=True, transform=transforms.Compose([\n",
    "               transforms.ToTensor(),\n",
    "               transforms.Normalize((0.5, 0.5, 0.5), (0.5, 0.5, 0.5))\n",
    "           ]))"
   ]
  },
  {
   "cell_type": "code",
   "execution_count": 53,
   "metadata": {},
   "outputs": [],
   "source": [
    "%matplotlib inline\n",
    "\n",
    "import matplotlib\n",
    "import numpy as np\n",
    "import matplotlib.pyplot as plt"
   ]
  },
  {
   "cell_type": "code",
   "execution_count": 74,
   "metadata": {},
   "outputs": [],
   "source": [
    "#imgplot = plt.imshow(trainset_cifar10.data[1])"
   ]
  },
  {
   "cell_type": "code",
   "execution_count": 55,
   "metadata": {},
   "outputs": [],
   "source": [
    "transform_train = transforms.Compose([\n",
    "    transforms.ToPILImage(),\n",
    "    transforms.ToTensor(),\n",
    "    ])\n",
    "# load training and test set here:\n",
    "train_loader = torch.utils.data.DataLoader(trainset_cifar10, batch_size=1,\n",
    "                                          shuffle=False)"
   ]
  },
  {
   "cell_type": "code",
   "execution_count": 56,
   "metadata": {},
   "outputs": [],
   "source": [
    "for batch_idx, (train_image_batch, train_label_batch) in enumerate(train_loader):\n",
    "    if batch_idx == 1:\n",
    "        trial_example = train_image_batch\n",
    "    #print(train_image_batch.size())"
   ]
  },
  {
   "cell_type": "code",
   "execution_count": 57,
   "metadata": {},
   "outputs": [],
   "source": [
    "output_batch1 = dumm_conv_block1(trial_example)\n",
    "output_batch2 = dumm_conv_block2(trial_example)\n",
    "output_avg = dumm_conv_block_avg(trial_example)"
   ]
  },
  {
   "cell_type": "code",
   "execution_count": 58,
   "metadata": {},
   "outputs": [],
   "source": [
    "sliced_output_batch1 = output_batch1[0][0].detach().numpy()"
   ]
  },
  {
   "cell_type": "code",
   "execution_count": 73,
   "metadata": {},
   "outputs": [
    {
     "data": {
      "text/plain": [
       "Text(0.5,1,'FedAvg, Filter 0')"
      ]
     },
     "execution_count": 73,
     "metadata": {},
     "output_type": "execute_result"
    },
    {
     "data": {
      "image/png": "[encoded data removed]",
      "text/plain": [
       "<Figure size 1080x216 with 5 Axes>"
      ]
     },
     "metadata": {
      "needs_background": "light"
     },
     "output_type": "display_data"
    }
   ],
   "source": [
    "fig = plt.figure(figsize=(15, 3))\n",
    "plt.subplot(151)\n",
    "plt.imshow(trainset_cifar10.data[1])\n",
    "plt.title(\"Raw Input2\", fontsize=15)\n",
    "plt.subplot(153)\n",
    "plt.imshow(sliced_output_batch1)\n",
    "plt.title(\"Client1, Filter 0\", fontsize=15)\n",
    "plt.subplot(154)\n",
    "sliced_output_batch2 = output_batch2[0][23].detach().numpy()\n",
    "plt.imshow(sliced_output_batch2)\n",
    "plt.title(\"Client2, Filter 23\", fontsize=15)\n",
    "plt.subplot(152)\n",
    "output_batch_matched = dumm_conv_block_matched(trial_example)\n",
    "output_batch_matched = output_batch_matched[0][0].detach().numpy()\n",
    "plt.imshow(output_batch_matched)\n",
    "#plt.title(\"Client1, Filter 0\", fontsize=15)\n",
    "plt.title(\"FedMA filter0\", fontsize=15)\n",
    "plt.subplot(155)\n",
    "output_batch_avg = dumm_conv_block_avg(trial_example)\n",
    "output_batch_avg = output_batch_avg[0][0].detach().numpy()\n",
    "plt.imshow(output_batch_avg)\n",
    "plt.title(\"FedAvg, Filter 0\", fontsize=15)"
   ]
  },
  {
   "cell_type": "code",
   "execution_count": 75,
   "metadata": {},
   "outputs": [],
   "source": [
    "for batch_idx, (train_image_batch, train_label_batch) in enumerate(train_loader):\n",
    "    if batch_idx == 7:\n",
    "        trial_example = train_image_batch\n",
    "    #print(train_image_batch.size())"
   ]
  },
  {
   "cell_type": "code",
   "execution_count": 76,
   "metadata": {},
   "outputs": [],
   "source": [
    "output_batch1 = dumm_conv_block1(trial_example)\n",
    "output_batch2 = dumm_conv_block2(trial_example)\n",
    "output_avg = dumm_conv_block_avg(trial_example)"
   ]
  },
  {
   "cell_type": "code",
   "execution_count": 77,
   "metadata": {},
   "outputs": [],
   "source": [
    "sliced_output_batch1 = output_batch1[0][0].detach().numpy()"
   ]
  },
  {
   "cell_type": "code",
   "execution_count": 79,
   "metadata": {},
   "outputs": [
    {
     "data": {
      "text/plain": [
       "Text(0.5,1,'FedAvg, Filter 0')"
      ]
     },
     "execution_count": 79,
     "metadata": {},
     "output_type": "execute_result"
    },
    {
     "data": {
      "image/png": "[encoded data removed]",
      "text/plain": [
       "<Figure size 1080x216 with 5 Axes>"
      ]
     },
     "metadata": {
      "needs_background": "light"
     },
     "output_type": "display_data"
    }
   ],
   "source": [
    "fig = plt.figure(figsize=(15, 3))\n",
    "plt.subplot(151)\n",
    "plt.imshow(trainset_cifar10.data[7])\n",
    "plt.title(\"Raw Input8\", fontsize=15)\n",
    "plt.subplot(153)\n",
    "plt.imshow(sliced_output_batch1)\n",
    "plt.title(\"Client1, Filter 0\", fontsize=15)\n",
    "plt.subplot(154)\n",
    "sliced_output_batch2 = output_batch2[0][23].detach().numpy()\n",
    "plt.imshow(sliced_output_batch2)\n",
    "plt.title(\"Client2, Filter 23\", fontsize=15)\n",
    "plt.subplot(152)\n",
    "output_batch_matched = dumm_conv_block_matched(trial_example)\n",
    "output_batch_matched = output_batch_matched[0][0].detach().numpy()\n",
    "plt.imshow(output_batch_matched)\n",
    "#plt.title(\"Client1, Filter 0\", fontsize=15)\n",
    "plt.title(\"FedMA filter0\", fontsize=15)\n",
    "plt.subplot(155)\n",
    "output_batch_avg = dumm_conv_block_avg(trial_example)\n",
    "output_batch_avg = output_batch_avg[0][0].detach().numpy()\n",
    "plt.imshow(output_batch_avg)\n",
    "plt.title(\"FedAvg, Filter 0\", fontsize=15)"
   ]
  }
 ],
 "metadata": {
  "kernelspec": {
   "display_name": "Python 3",
   "language": "python",
   "name": "python3"
  },
  "language_info": {
   "codemirror_mode": {
    "name": "ipython",
    "version": 3
   },
   "file_extension": ".py",
   "mimetype": "text/x-python",
   "name": "python",
   "nbconvert_exporter": "python",
   "pygments_lexer": "ipython3",
   "version": "3.6.8"
  }
 },
 "nbformat": 4,
 "nbformat_minor": 2
}
